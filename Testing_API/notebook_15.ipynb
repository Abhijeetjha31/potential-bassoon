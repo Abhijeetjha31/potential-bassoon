{
 "cells": [
  {
   "cell_type": "code",
   "execution_count": null,
   "id": "90fce4ac",
   "metadata": {},
   "outputs": [],
   "source": [
    "json_data = {\"DepartmentId\": 15, \"Faculty\": \"amitabh\", \"Hod_name\": \"Tudu\"}"
   ]
  }
 ],
 "metadata": {},
 "nbformat": 4,
 "nbformat_minor": 5
}
