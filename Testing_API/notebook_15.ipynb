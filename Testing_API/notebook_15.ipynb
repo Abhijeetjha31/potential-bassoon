{
 "cells": [
  {
   "cell_type": "code",
   "execution_count": null,
   "id": "f078915e",
   "metadata": {},
   "outputs": [],
   "source": [
    "json_data = {\"DepartmentId\": 15, \"DepartmentName\": \"BBA\", \"Faculty\": \"amitabh\", \"Hod_name\": \"Tudu\"}"
   ]
  }
 ],
 "metadata": {},
 "nbformat": 4,
 "nbformat_minor": 5
}
