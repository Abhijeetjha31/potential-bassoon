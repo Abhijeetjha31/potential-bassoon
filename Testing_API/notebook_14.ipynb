{
 "cells": [
  {
   "cell_type": "code",
   "execution_count": null,
   "id": "ffc60f83",
   "metadata": {},
   "outputs": [],
   "source": [
    "json_data = {\"DepartmentId\": 14, \"Faculty\": \"Tapan Kumar\"}"
   ]
  }
 ],
 "metadata": {},
 "nbformat": 4,
 "nbformat_minor": 5
}
