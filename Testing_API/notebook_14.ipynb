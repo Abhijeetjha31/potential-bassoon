{
 "cells": [
  {
   "cell_type": "code",
   "execution_count": null,
   "id": "c1b00b28",
   "metadata": {},
   "outputs": [],
   "source": [
    "json_data = {\"DepartmentId\": 14, \"DepartmentName\": \"Computer Science and Engineering\", \"Faculty\": \"Tapan Kumar\", \"Hod_name\": \"Rahul Kumar\"}"
   ]
  }
 ],
 "metadata": {},
 "nbformat": 4,
 "nbformat_minor": 5
}
